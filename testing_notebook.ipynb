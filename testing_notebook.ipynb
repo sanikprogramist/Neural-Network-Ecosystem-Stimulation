{
 "cells": [
  {
   "cell_type": "code",
   "execution_count": 1,
   "metadata": {},
   "outputs": [
    {
     "name": "stdout",
     "output_type": "stream",
     "text": [
      "pygame 2.1.2 (SDL 2.0.18, Python 3.10.1)\n",
      "Hello from the pygame community. https://www.pygame.org/contribute.html\n"
     ]
    }
   ],
   "source": [
    "import numpy as np\n",
    "import pandas as p\n",
    "import pygame as pg\n",
    "from scipy.spatial import distance_matrix\n",
    "\n",
    "from game_functions import *\n",
    "from class_herbivore_nn import *\n",
    "from class_world import *"
   ]
  },
  {
   "cell_type": "code",
   "execution_count": 2,
   "metadata": {},
   "outputs": [
    {
     "data": {
      "text/plain": [
       "4"
      ]
     },
     "execution_count": 2,
     "metadata": {},
     "output_type": "execute_result"
    }
   ],
   "source": [
    "a = np.array([1,2,3,4,5])\n",
    "np.argmax(a)"
   ]
  },
  {
   "cell_type": "code",
   "execution_count": null,
   "metadata": {},
   "outputs": [
    {
     "data": {
      "text/plain": [
       "(2, 1)"
      ]
     },
     "execution_count": 4,
     "metadata": {},
     "output_type": "execute_result"
    }
   ],
   "source": [
    "a = AnimalBrain(n_ray_sections=1,n_types_of_info_in_each_section=1,hidden_dim_1=2,hidden_dim_2=1)\n",
    "a.get_dim_sizes()\n"
   ]
  },
  {
   "cell_type": "code",
   "execution_count": 5,
   "metadata": {},
   "outputs": [
    {
     "name": "stdout",
     "output_type": "stream",
     "text": [
      "(1, 1)\n",
      "Parameter containing:\n",
      "tensor([[ 0.0253, -0.4105, -0.3115, -0.4163]], requires_grad=True)\n",
      "Parameter containing:\n",
      "tensor([[0.1312]], requires_grad=True)\n",
      "Parameter containing:\n",
      "tensor([[-0.6843],\n",
      "        [ 0.2380]], requires_grad=True)\n",
      "------------\n",
      "Parameter containing:\n",
      "tensor([[ 0.0253, -0.4105, -0.3115, -0.4163]], requires_grad=True)\n",
      "Parameter containing:\n",
      "tensor([[ 0.1312],\n",
      "        [-0.5761]], requires_grad=True)\n",
      "Parameter containing:\n",
      "tensor([[-0.6843, -0.0865],\n",
      "        [ 0.2380, -0.5680]], requires_grad=True)\n",
      "(1, 2)\n"
     ]
    }
   ],
   "source": [
    "a = AnimalBrain(n_ray_sections=1,n_types_of_info_in_each_section=1,hidden_dim_1=1,hidden_dim_2=1)\n",
    "print(a.get_dim_sizes())\n",
    "for i in a.parameters():\n",
    "    print(i)\n",
    "print(\"------------\")\n",
    "b = resize_layer_in_animal_brain(a, layer=\"fc2\", new_size = 2, init_std =0.5)\n",
    "for i in b.parameters():\n",
    "    print(i)\n",
    "print(b.get_dim_sizes())\n"
   ]
  },
  {
   "cell_type": "code",
   "execution_count": 14,
   "metadata": {},
   "outputs": [
    {
     "data": {
      "text/plain": [
       "2"
      ]
     },
     "execution_count": 14,
     "metadata": {},
     "output_type": "execute_result"
    }
   ],
   "source": [
    "np.random.randint(low=1,high=4,size=1)[0]"
   ]
  },
  {
   "cell_type": "code",
   "execution_count": 25,
   "metadata": {},
   "outputs": [
    {
     "data": {
      "text/plain": [
       "array([0.e+000, 5.e-324, 1.e+000, 1.e+000, 0.e+000, 1.e+000, 2.e+000,\n",
       "       3.e+000])"
      ]
     },
     "execution_count": 25,
     "metadata": {},
     "output_type": "execute_result"
    }
   ],
   "source": [
    "a = np.array([True, True, False])\n",
    "b = np.array([1,2,3])\n",
    "c = np.empty((1,2))\n",
    "np.append(c,[a,b])"
   ]
  },
  {
   "cell_type": "code",
   "execution_count": 12,
   "metadata": {},
   "outputs": [
    {
     "data": {
      "text/plain": [
       "9"
      ]
     },
     "execution_count": 12,
     "metadata": {},
     "output_type": "execute_result"
    }
   ],
   "source": [
    "np.random.choice([-1,1])\n",
    "np.clip(([3,10][1]+np.random.choice([-1,1])),a_min=1,a_max=20)"
   ]
  },
  {
   "cell_type": "code",
   "execution_count": null,
   "metadata": {},
   "outputs": [],
   "source": [
    "import torch\n",
    "import torch.nn as nn\n",
    "import torch.nn.functional as F\n",
    "\n",
    "class HerbBrain(nn.Module):\n",
    "    def __init__(self, n_rays=6, n_channels=2, hidden_dim=12):\n",
    "        \"\"\"\n",
    "        n_rays: Number of raycasts (e.g., 5)\n",
    "        n_channels: Channels per ray (e.g., 3 for food, wall, predator)\n",
    "        hidden_dim: Size of hidden layers (controls NN capacity)\n",
    "        \"\"\"\n",
    "        super().__init__()\n",
    "\n",
    "        input_dim = n_rays * n_channels    \n",
    "        output_dim = 2   #acceleration and angular velocity\n",
    "        self.fc1 = nn.Linear(input_dim, hidden_dim)\n",
    "        self.fc2 = nn.Linear(hidden_dim, hidden_dim)\n",
    "        self.out = nn.Linear(hidden_dim, output_dim)\n",
    "\n",
    "    def forward(self,x):\n",
    "        x = F.relu(self.fc1(x))\n",
    "        x = F.relu(self.fc2(x))\n",
    "        x = torch.tanh(self.out(x))\n",
    "        return x"
   ]
  },
  {
   "cell_type": "code",
   "execution_count": null,
   "metadata": {},
   "outputs": [
    {
     "name": "stdout",
     "output_type": "stream",
     "text": [
      "torch.Size([12, 12])\n",
      "Parameter containing:\n",
      "tensor([[-0.1522, -0.1578,  0.1735, -0.1910, -0.1357,  0.1570, -0.2147,  0.1416,\n",
      "          0.1758,  0.0784,  0.0517,  0.1116],\n",
      "        [ 0.2184,  0.0235, -0.2078,  0.2664,  0.2117, -0.0067, -0.1688, -0.1118,\n",
      "         -0.2549,  0.1913, -0.0251,  0.1989],\n",
      "        [ 0.1087, -0.0573, -0.1846,  0.1005, -0.1852, -0.0642,  0.1716, -0.1572,\n",
      "         -0.0141, -0.0392,  0.0331,  0.2779],\n",
      "        [ 0.1688, -0.1084,  0.2555, -0.0939,  0.1189,  0.1195, -0.0087, -0.2686,\n",
      "          0.2714, -0.0667,  0.1966, -0.1731],\n",
      "        [-0.0295,  0.2475, -0.2505,  0.0111, -0.0038, -0.2467, -0.0559, -0.2646,\n",
      "          0.0624,  0.0486,  0.1652,  0.0072],\n",
      "        [-0.1162, -0.1041, -0.1078,  0.2246,  0.0925, -0.2874,  0.0516, -0.0385,\n",
      "          0.2106, -0.0844,  0.2520,  0.0892],\n",
      "        [-0.2601,  0.0607, -0.0659,  0.1445, -0.2478, -0.0211,  0.1908,  0.1023,\n",
      "          0.1358,  0.2444,  0.1179,  0.0938],\n",
      "        [ 0.0595,  0.0190,  0.2513, -0.0666,  0.0380,  0.0040, -0.0798,  0.2111,\n",
      "          0.0162, -0.2455,  0.1958, -0.0955],\n",
      "        [ 0.0282, -0.2618,  0.1145, -0.1980, -0.0327,  0.2478,  0.0691,  0.2407,\n",
      "         -0.1565, -0.2685, -0.2311, -0.0989],\n",
      "        [-0.0899, -0.0196,  0.1651,  0.2518, -0.2832, -0.1675,  0.2482, -0.0481,\n",
      "         -0.0814, -0.2838, -0.0472, -0.2565],\n",
      "        [ 0.2446, -0.1325, -0.0891,  0.0538,  0.1312,  0.2521, -0.0488, -0.2155,\n",
      "          0.2522, -0.0612,  0.1054, -0.2184],\n",
      "        [-0.1849, -0.0216, -0.0958,  0.0102,  0.1088,  0.0283, -0.1251, -0.0068,\n",
      "          0.2231,  0.2529,  0.2407,  0.1910]], requires_grad=True)\n",
      "torch.Size([12])\n",
      "torch.Size([12, 12])\n",
      "Parameter containing:\n",
      "tensor([[ 0.1388,  0.2118,  0.1398, -0.1970,  0.0886, -0.2607, -0.1488, -0.1677,\n",
      "          0.1964,  0.0677,  0.2779,  0.1869],\n",
      "        [-0.0876,  0.2785, -0.1923, -0.0888, -0.0751,  0.1152, -0.1239, -0.2293,\n",
      "          0.1769,  0.2384,  0.1755,  0.1625],\n",
      "        [-0.0922, -0.0993, -0.2532,  0.0065,  0.1862,  0.1494,  0.2478, -0.2238,\n",
      "         -0.2525,  0.1348,  0.2815, -0.0973],\n",
      "        [ 0.0522,  0.0829,  0.1508,  0.0429, -0.2478, -0.0508,  0.1493, -0.0135,\n",
      "         -0.2090, -0.1811, -0.0951,  0.2155],\n",
      "        [ 0.0462,  0.2156,  0.0284,  0.1772,  0.0277,  0.1976,  0.2498, -0.2414,\n",
      "         -0.2127, -0.1074, -0.0076, -0.0925],\n",
      "        [-0.2480,  0.0031,  0.1891, -0.2313,  0.0649, -0.1860,  0.1426, -0.0421,\n",
      "          0.2074,  0.1490, -0.2071,  0.2423],\n",
      "        [-0.2575, -0.0276,  0.1540,  0.1082, -0.2243,  0.0229, -0.1136, -0.0732,\n",
      "         -0.2439,  0.0912,  0.2320,  0.1247],\n",
      "        [ 0.1031, -0.1798, -0.1690,  0.0288,  0.1014, -0.1787, -0.2723, -0.0145,\n",
      "         -0.0717,  0.1055,  0.0140, -0.1840],\n",
      "        [-0.0792, -0.0656, -0.2582,  0.1621,  0.2147, -0.2298,  0.1393, -0.1615,\n",
      "          0.0318, -0.2055, -0.1858, -0.2370],\n",
      "        [ 0.1206, -0.1775, -0.0863,  0.1529, -0.0903,  0.2601,  0.1507,  0.1208,\n",
      "          0.1370, -0.1183, -0.0562,  0.0583],\n",
      "        [-0.1539,  0.2269, -0.1863, -0.0261, -0.1524, -0.1044,  0.2793,  0.2703,\n",
      "         -0.1616,  0.1221,  0.0207, -0.0748],\n",
      "        [-0.1257, -0.0409,  0.1409,  0.1153,  0.0091, -0.2233,  0.0600,  0.1752,\n",
      "         -0.0300,  0.1548, -0.1341, -0.0099]], requires_grad=True)\n",
      "torch.Size([12])\n",
      "torch.Size([2, 12])\n",
      "Parameter containing:\n",
      "tensor([[ 0.0299, -0.2152,  0.2681, -0.1883, -0.1453,  0.0345, -0.2673,  0.0463,\n",
      "          0.1697,  0.2883, -0.1988,  0.2391],\n",
      "        [-0.2198,  0.0383,  0.1921,  0.0648,  0.2314,  0.2860, -0.1543, -0.1971,\n",
      "          0.2018,  0.0813, -0.1786, -0.0148]], requires_grad=True)\n",
      "torch.Size([2])\n"
     ]
    }
   ],
   "source": [
    "torch.manual_seed(41)\n",
    "model = HerbBrain()\n",
    "mutation_rate = 0.5\n",
    "mutation_strength = 0.1\n",
    "for param in model.parameters():\n",
    "    print(param.shape)\n",
    "    if len(param.shape) == 2:  # Weights\n",
    "        mask = torch.rand_like(param) < mutation_rate\n",
    "        noise = torch.randn_like(param) * mutation_strength\n",
    "        param.data += mask * noise\n",
    "    elif len(param.shape) == 1:  # Biases\n",
    "        mask = torch.rand_like(param) < mutation_rate\n",
    "        noise = torch.randn_like(param) * mutation_strength\n",
    "        param.data += mask * noise"
   ]
  },
  {
   "cell_type": "code",
   "execution_count": 56,
   "metadata": {},
   "outputs": [
    {
     "data": {
      "text/plain": [
       "array([1, 2, 3])"
      ]
     },
     "execution_count": 56,
     "metadata": {},
     "output_type": "execute_result"
    }
   ],
   "source": [
    "a = np.array([1,2,3,4])\n",
    "a=a[0:3]\n",
    "a"
   ]
  },
  {
   "cell_type": "code",
   "execution_count": 49,
   "metadata": {},
   "outputs": [
    {
     "data": {
      "text/plain": [
       "array([0, 0])"
      ]
     },
     "execution_count": 49,
     "metadata": {},
     "output_type": "execute_result"
    }
   ],
   "source": [
    "a = np.array([1,2,3,4,5])\n",
    "a[[]] = 99\n",
    "a\n",
    "np.random.randint(0,1,2)"
   ]
  },
  {
   "cell_type": "code",
   "execution_count": 3,
   "metadata": {},
   "outputs": [
    {
     "data": {
      "text/plain": [
       "array([0.79039178, 0.65604093, 0.37642192, 0.81664141, 0.49718563])"
      ]
     },
     "execution_count": 3,
     "metadata": {},
     "output_type": "execute_result"
    }
   ],
   "source": [
    "np.random.rand((5))"
   ]
  },
  {
   "cell_type": "code",
   "execution_count": 54,
   "metadata": {},
   "outputs": [
    {
     "data": {
      "text/plain": [
       "array([[0., 0.],\n",
       "       [0., 0.],\n",
       "       [0., 0.],\n",
       "       [0., 0.],\n",
       "       [0., 0.]])"
      ]
     },
     "execution_count": 54,
     "metadata": {},
     "output_type": "execute_result"
    }
   ],
   "source": [
    "a = np.array([1,2,3,4,5])\n",
    "b = np.array([0,0,0,0,0,0,0,0,0,0])\n",
    "b = b[:,np.newaxis]\n",
    "c = a+b\n",
    "d = (c**2)*2\n",
    "\n",
    "e = np.zeros((10,5,2))\n",
    "e[0]\n",
    "\n"
   ]
  },
  {
   "cell_type": "code",
   "execution_count": 7,
   "metadata": {},
   "outputs": [
    {
     "name": "stdout",
     "output_type": "stream",
     "text": [
      "0\n",
      "50\n",
      "25\n",
      "24\n"
     ]
    }
   ],
   "source": [
    "bonk = World()\n",
    "print(bonk.current_plant)\n",
    "bonk.spawn_food(25)\n",
    "print(bonk.current_plant)\n",
    "bonk.remove_food(0)\n",
    "print(bonk.current_plant)"
   ]
  },
  {
   "cell_type": "code",
   "execution_count": 26,
   "metadata": {},
   "outputs": [
    {
     "name": "stdout",
     "output_type": "stream",
     "text": [
      "33\n",
      "33\n"
     ]
    }
   ],
   "source": [
    "test = pg.time.Clock()\n",
    "print(test.tick(30))\n",
    "print(test.tick(30))"
   ]
  },
  {
   "cell_type": "code",
   "execution_count": null,
   "metadata": {},
   "outputs": [
    {
     "data": {
      "text/plain": [
       "array([[ 0],\n",
       "       [ 5],\n",
       "       [15]])"
      ]
     },
     "execution_count": 63,
     "metadata": {},
     "output_type": "execute_result"
    }
   ],
   "source": [
    "angles = np.array([0.1,0.2,1.5,3.14])\n",
    "speeds = np.array([0,5,10,15])\n",
    "dpos = np.zeros((angles.size,2))\n",
    "\n",
    "np.sin(angles, out=dpos[:,0])\n",
    "np.cos(angles, out=dpos[:,1])\n",
    "\n",
    "dpos = dpos*speeds[:, np.newaxis]\n",
    "\n",
    "speeds[[0,1,3],np.newaxis]"
   ]
  },
  {
   "cell_type": "code",
   "execution_count": 125,
   "metadata": {},
   "outputs": [
    {
     "data": {
      "text/plain": [
       "array([[0, 0],\n",
       "       [1, 2],\n",
       "       [2, 1]], dtype=int64)"
      ]
     },
     "execution_count": 125,
     "metadata": {},
     "output_type": "execute_result"
    }
   ],
   "source": [
    "a = np.array([[1,1],[2,2],[3,3],[4,4]])\n",
    "b = np.array([[1,1],[3,3],[2,2]])\n",
    "result = np.column_stack(np.where(distance_matrix(a,b)<0.1))\n",
    "result"
   ]
  },
  {
   "cell_type": "code",
   "execution_count": 17,
   "metadata": {},
   "outputs": [
    {
     "data": {
      "text/plain": [
       "array([ 1, 99,  3, 99])"
      ]
     },
     "execution_count": 17,
     "metadata": {},
     "output_type": "execute_result"
    }
   ],
   "source": [
    "a = np.array([1,2,3,4])\n",
    "alive = np.array([True,True,False,True])\n",
    "b = np.where(alive)[0]\n",
    "c = b[[1,2]]\n",
    "a[c] = 99\n",
    "a"
   ]
  },
  {
   "cell_type": "code",
   "execution_count": 76,
   "metadata": {},
   "outputs": [
    {
     "data": {
      "text/plain": [
       "array([[[ 1., 10.],\n",
       "        [10., 10.]],\n",
       "\n",
       "       [[ 1.,  3.],\n",
       "        [ 3.,  3.]],\n",
       "\n",
       "       [[ 1.,  6.],\n",
       "        [ 2.,  2.]]])"
      ]
     },
     "execution_count": 76,
     "metadata": {},
     "output_type": "execute_result"
    }
   ],
   "source": [
    "start_point = np.array([1,1]) # represents position of single herbivore\n",
    "end_points = np.array([[1,10],[5,5]]) # representes end points of two rays\n",
    "vectors = end_points - start_point \n",
    "points = np.array([[10,10],[3,3],[-2,6]]) #represents three units of food\n",
    "\n",
    "point_vec = points[:, np.newaxis, :] - start_point[np.newaxis, np.newaxis,:]\n",
    "ray_len_sq = np.sum(vectors**2, axis=1)  # shape (R,)\n",
    "t = np.sum(point_vec * vectors[np.newaxis, :, :], axis=2) / ray_len_sq  # shape (P, R)\n",
    "closest = start_point[np.newaxis, :] + (t[..., np.newaxis] * vectors[np.newaxis, :, :])\n",
    "closest #closest distance of each plant to each vector"
   ]
  },
  {
   "cell_type": "code",
   "execution_count": null,
   "metadata": {},
   "outputs": [],
   "source": []
  },
  {
   "cell_type": "code",
   "execution_count": 5,
   "metadata": {},
   "outputs": [
    {
     "data": {
      "text/plain": [
       "array([[0.        , 0.        , 5.        ],\n",
       "       [0.        , 0.        , 4.06225777]])"
      ]
     },
     "execution_count": 5,
     "metadata": {},
     "output_type": "execute_result"
    }
   ],
   "source": [
    "h = np.array([[1,1],[5,5]])\n",
    "r = np.array([ [[10,1],\n",
    "                [6,10],\n",
    "                [-105,1]],\n",
    "               [[1,1],\n",
    "                [7,9],\n",
    "                [7,100]] ])\n",
    "p = np.array([[8,9],[11,1],[-4,1]])\n",
    "size = 1\n",
    "a,b = raycast_detect_plant_and_wall(p,h,r,(200,200))\n",
    "a\n",
    "\n"
   ]
  }
 ],
 "metadata": {
  "kernelspec": {
   "display_name": "Python 3",
   "language": "python",
   "name": "python3"
  },
  "language_info": {
   "codemirror_mode": {
    "name": "ipython",
    "version": 3
   },
   "file_extension": ".py",
   "mimetype": "text/x-python",
   "name": "python",
   "nbconvert_exporter": "python",
   "pygments_lexer": "ipython3",
   "version": "3.10.1"
  }
 },
 "nbformat": 4,
 "nbformat_minor": 2
}
